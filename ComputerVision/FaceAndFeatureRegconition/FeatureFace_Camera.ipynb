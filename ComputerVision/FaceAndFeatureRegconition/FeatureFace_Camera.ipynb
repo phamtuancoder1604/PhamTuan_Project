{
 "cells": [
  {
   "cell_type": "markdown",
   "id": "9dfcc700-03df-473b-8d63-5ea21bab73b0",
   "metadata": {},
   "source": [
    "• Download model:\n",
    "  https://github.com/ageitgey/face_recognition_models/tree/master/face_recognition_models/models\n"
   ]
  },
  {
   "cell_type": "code",
   "execution_count": 6,
   "id": "8708ba19-11a2-435c-afdb-3bf82e0b2539",
   "metadata": {},
   "outputs": [],
   "source": [
    "import numpy as np \n",
    "import dlib\n",
    "from imutils import face_utils \n",
    "import cv2\n"
   ]
  },
  {
   "cell_type": "code",
   "execution_count": null,
   "id": "a75c75fd-723a-4b96-bbd9-b3179f4e9780",
   "metadata": {},
   "outputs": [],
   "source": [
    "face_landmarks_model_path = 'C:/Users/ASUS/Project/Data/shape_predictor_68_face_landmarks.dat'\n",
    "face_recognition_model_path = 'C:/Users/ASUS/Project/Data/dlib_face_recognition_resnet_model_v1.dat'\n",
    "# tao bo nhan dien khuon mat \n",
    "face_detector = dlib.get_frontal_face_detector()\n",
    "camera = cv2.VideoCapture(0)\n",
    "while True:\n",
    "    ret,frame = camera.read()\n",
    "    if not ret: \n",
    "        break\n",
    "    frame = cv2.resize(frame, (640, 480))\n",
    "    faces = face_detector(frame)\n",
    "    #vong lap qua tung khuon mat\n",
    "    for face in faces:\n",
    "        point_a = face.left(), face.top() \n",
    "        point_b = face.right(),face.bottom()\n",
    "        # phat hien dac trung tren khuon mat \n",
    "        shape_predictor = dlib.shape_predictor(face_landmarks_model_path) \n",
    "        face_shape = shape_predictor(frame,face)\n",
    "        face_shape_arr = face_utils.shape_to_np(face_shape)\n",
    "        # tinh toan dac trung cua khuon mat\n",
    "        shape_descriptor = dlib.face_recognition_model_v1(face_recognition_model_path)\n",
    "        face_descriptor = shape_descriptor.compute_face_descriptor(frame,face_shape)\n",
    "        #rectangle va cac diem dac trung le mat\n",
    "        cv2.rectangle(frame,point_a,point_b,(0,255,0))\n",
    "        for point in face_shape_arr:\n",
    "            cv2.circle(frame,tuple(point),3,(0,255,0),-1)\n",
    "    cv2.imshow('Image',frame )\n",
    "    if cv2.waitKey(10) == ord('q'):\n",
    "        break\n",
    "camera.release()\n",
    "cv2.destroyAllWindows()"
   ]
  }
 ],
 "metadata": {
  "kernelspec": {
   "display_name": "Python 3 (ipykernel)",
   "language": "python",
   "name": "python3"
  },
  "language_info": {
   "codemirror_mode": {
    "name": "ipython",
    "version": 3
   },
   "file_extension": ".py",
   "mimetype": "text/x-python",
   "name": "python",
   "nbconvert_exporter": "python",
   "pygments_lexer": "ipython3",
   "version": "3.12.7"
  }
 },
 "nbformat": 4,
 "nbformat_minor": 5
}
