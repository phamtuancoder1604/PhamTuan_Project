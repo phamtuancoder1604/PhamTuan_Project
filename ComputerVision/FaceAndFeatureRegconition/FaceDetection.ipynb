{
 "cells": [
  {
   "cell_type": "markdown",
   "id": "d0dbe897-aa89-4b64-8243-463b2cd1f1ec",
   "metadata": {},
   "source": [
    "### Haar Cascade Classifier\n",
    "- https://github.com/opencv/opencv/tree/master/data/haarcascades"
   ]
  },
  {
   "cell_type": "code",
   "execution_count": 3,
   "id": "b148146b-d5fb-46e3-99df-91bb8415e312",
   "metadata": {},
   "outputs": [],
   "source": [
    "import cv2 \n",
    "import time"
   ]
  },
  {
   "cell_type": "code",
   "execution_count": 4,
   "id": "3a95cfcf-d0b1-41fb-b29f-1342a6ca13c5",
   "metadata": {},
   "outputs": [],
   "source": [
    "def display(title,img):\n",
    "    cv2.imshow(title, img)\n",
    "    cv2.waitKey(0)\n",
    "    cv2.destroyAllWindows()\n"
   ]
  },
  {
   "cell_type": "code",
   "execution_count": null,
   "id": "ff5afede-9dee-4b25-84b3-008bbc137588",
   "metadata": {},
   "outputs": [],
   "source": [
    "# Haar Cascade Classififer cho nhan dien khuon mat \n",
    "def detect(img):\n",
    "    face_cascade = cv2.CascadeClassifier('C:/Users/ASUS/Project/Data/haarcascade_frontalface_default.xml')\n",
    "    eye_cascade = cv2.CascadeClassifier('C:/Users/ASUS/Project/Data/haarcascade_eye_tree_eyeglasses.xml')\n",
    "    gray = cv2.cvtColor(img,cv2.COLOR_BGR2GRAY)\n",
    "    faces = face_cascade.detectMultiScale(gray,scaleFactor = 1.1,minNeighbors = 5,minSize = (30,30))\n",
    "    eyes = eye_cascade.detectMultiScale(gray,scaleFactor = 1.1, minNeighbors = 1,minSize = (5,5))\n",
    "    # Draw a box include face \n",
    "    for (x,y,w,h) in faces:\n",
    "        cv2.rectangle(img,(x,y),(x+w,y+h),(0,255,0),2)\n",
    "    for (x,y,w,h) in eyes: \n",
    "        cv2.rectangle(img,(x,y),(x + w,y + h),(255,0,0),2)\n",
    "    return img "
   ]
  },
  {
   "cell_type": "code",
   "execution_count": null,
   "id": "afdd38fd-952c-4e05-a16c-d1d712b3e202",
   "metadata": {},
   "outputs": [],
   "source": [
    "camera = cv2.VideoCapture(0)\n",
    "# tao cua so hien thi\n",
    "cv2.namedWindow('Video Windows', cv2.WINDOW_NORMAL)\n",
    "# write text in image \n",
    "font = cv2.FONT_HERSHEY_SIMPLEX\n",
    "font_color = (255,255,255)\n",
    "font_scale = 1\n",
    "font_thickness = 2\n",
    "\n",
    "while True:\n",
    "    start = time.time()\n",
    "    ret,frame  = camera.read()\n",
    "    if not ret:\n",
    "        break \n",
    "    end = time.time()\n",
    "    # fps\n",
    "    fps = 1/ (end - start) \n",
    "    frame =  detect(frame)\n",
    "    cv2.putText(frame,f'FPS: {fps:.2f}',(10,30),font,font_scale,font_color,font_thickness)\n",
    "    cv2.imshow('Video Windows',frame)\n",
    "    if cv2.waitKey(10) == ord('q'):\n",
    "        break \n",
    "camera.release()\n",
    "cv2.destroyAllWindows()"
   ]
  }
 ],
 "metadata": {
  "kernelspec": {
   "display_name": "Python 3 (ipykernel)",
   "language": "python",
   "name": "python3"
  },
  "language_info": {
   "codemirror_mode": {
    "name": "ipython",
    "version": 3
   },
   "file_extension": ".py",
   "mimetype": "text/x-python",
   "name": "python",
   "nbconvert_exporter": "python",
   "pygments_lexer": "ipython3",
   "version": "3.12.7"
  }
 },
 "nbformat": 4,
 "nbformat_minor": 5
}
