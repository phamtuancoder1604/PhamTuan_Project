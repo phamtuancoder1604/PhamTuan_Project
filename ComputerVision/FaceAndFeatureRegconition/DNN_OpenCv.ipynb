{
 "cells": [
  {
   "cell_type": "markdown",
   "id": "87d4bf81-2f1c-4d02-89d5-526cf94a2454",
   "metadata": {},
   "source": [
    "\n",
    "\n",
    "### Face Detection (FP16)  \n",
    "**Phiên bản dấu phẩy động 16 của triển khai Caffe**  \n",
    "- Model: [res10_300x300_ssd_iter_140000_fp16.caffemodel](https://github.com/opencv/opencv_3rdparty/raw/19512576c112aa2c7b6328cb0e8d589a4a90a26d/res10_300x300_ssd_iter_140000_fp16.caffemodel)  \n",
    "- Kiến trúc của model: [deploy.prototxt](https://github.com/opencv/opencv/blob/master/samples/dnn/face_detector/deploy.prototxt)  \n",
    "\n",
    "### Face Detector (UINT8)  \n",
    "**Phiên bản 8 bit sử dụng TensorFlow**  \n",
    "- Model: [opencv_face_detector_uint8.pb](https://github.com/opencv/opencv_3rdparty/raw/8033c2bc31b3256f0d461c919ecc01c2428ca03b/opencv_face_detector_uint8.pb)  \n",
    "- Kiến trúc của model: [opencv_face_detector.pbtxt](https://github.com/opencv/opencv_extra/blob/master/testdata/dnn/opencv_face_detector.pbtxt)  \n"
   ]
  },
  {
   "cell_type": "code",
   "execution_count": null,
   "id": "dd8b632e-0500-46c0-8345-20d8a2f16863",
   "metadata": {},
   "outputs": [],
   "source": [
    "import cv2 \n",
    "import numpy as np\n",
    "\n"
   ]
  },
  {
   "cell_type": "code",
   "execution_count": null,
   "id": "aaa55b4d-0f95-487d-a124-fb2aed3dd2a5",
   "metadata": {},
   "outputs": [],
   "source": [
    "# Download model has been trained\n",
    "net=cv2.dnn.readNetFromCaffe('C:/Users/ASUS/Project/Data/deploy.prototxt',\n",
    "                             'C:/Users/ASUS/Project/Data/res10_300x300_ssd_iter_140000_fp16.caffemodel')\n",
    "\n",
    "# Chuẩn bị dữ liệu đầu vào\n",
    "# mo webcam \n",
    "cam = cv2.VideoCapture(0)\n",
    "while True:\n",
    "    ret,frame = cam.read()\n",
    "    if not ret:\n",
    "        break\n",
    "    \n",
    "    blob = cv2.dnn.blobFromImage(frame,1.0,(300,300),(104,177,123), swapRB = False)\n",
    "    # dat data input vao cho mang \n",
    "    net.setInput(blob)\n",
    "    #chay mang phat hien khuon mat \n",
    "    faces = net.forward()\n",
    "\n",
    "    h = frame.shape[0]\n",
    "    w = frame.shape[1]\n",
    " \n",
    "    # print(faces.shape)#(soluong anh dau vao, so luong lop dau ra, 200 khuon mat detected, 7 thong tin)\n",
    "    # print(faces[0,0,0])\n",
    "\n",
    "    for i in range(0,faces.shape[2]):\n",
    "        confidence =faces[0,0,i,2]\n",
    "        # kiem tra do tin cay la 0.9\n",
    "        if confidence > 0.9:\n",
    "            startx = int(faces[0,0,i,3] *w)\n",
    "            endx = int(faces[0,0,i,5] *w)\n",
    "            starty = int(faces[0,0,i,4] *h)\n",
    "            endy= int(faces[0,0,i,6]*h)\n",
    "            \n",
    "          \n",
    "            # hinh chu nhat xung quanh mat da phat hien\n",
    "            cv2.rectangle(frame,(startx,starty),(endx,endy),(0,255,0),)\n",
    "            # hien thi do tin cay\n",
    "            text = f'Face {confidence * 100:.2f}%'\n",
    "            cv2.putText(frame,text,(startx,starty - 10),cv2.FONT_HERSHEY_SIMPLEX,1,(255,255,255),)\n",
    "    cv2.imshow('Image Window',frame)\n",
    "    if cv2.waitKey(10) == ord('q'):\n",
    "        break\n",
    "cam.release()\n",
    "cv2.destroyAllWindows()"
   ]
  }
 ],
 "metadata": {
  "kernelspec": {
   "display_name": "Python 3 (ipykernel)",
   "language": "python",
   "name": "python3"
  },
  "language_info": {
   "codemirror_mode": {
    "name": "ipython",
    "version": 3
   },
   "file_extension": ".py",
   "mimetype": "text/x-python",
   "name": "python",
   "nbconvert_exporter": "python",
   "pygments_lexer": "ipython3",
   "version": "3.12.7"
  }
 },
 "nbformat": 4,
 "nbformat_minor": 5
}
