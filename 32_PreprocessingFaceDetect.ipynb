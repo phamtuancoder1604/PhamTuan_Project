{
 "cells": [
  {
   "cell_type": "code",
   "execution_count": 2,
   "id": "e02e9180-0d75-4d3e-a43d-dacfc096a7fe",
   "metadata": {},
   "outputs": [],
   "source": [
    "import numpy as np\n",
    "import cv2 \n",
    "import pandas as pd \n",
    "import os \n",
    "import pickle"
   ]
  },
  {
   "cell_type": "code",
   "execution_count": 3,
   "id": "c49641d8-6b5e-42f1-8f2d-0e1b8645c707",
   "metadata": {},
   "outputs": [
    {
     "data": {
      "text/plain": [
       "< cv2.dnn.Net 00000280985F5650>"
      ]
     },
     "execution_count": 3,
     "metadata": {},
     "output_type": "execute_result"
    }
   ],
   "source": [
    "#Face detection model\n",
    "model = 'C:/Users/ASUS/Project/Data/res10_300x300_ssd_iter_140000_fp16.caffemodel'\n",
    "\n",
    "# mo ta kien truc \n",
    "faceDetectionProto = 'C:/Users/ASUS/Project/Data/deploy.prototxt'\n",
    "# mo hinh mo ta khuon mat \n",
    "faceDescriptorModel = 'C:/Users/ASUS/Project/Data/openface.nn4.small2.v1.t7'\n",
    "# Su dung opencv Dnn dc mo hinh nhan dien khuon mat \n",
    "detectorModel = cv2.dnn.readNetFromCaffe(faceDetectionProto,model) # can hoc readNet from \n",
    "# doc mo hinh mo ta khuon mat tu Torch \n",
    "descriptorModel = cv2.dnn.readNetFromTorch(faceDescriptorModel)\n",
    "detectorModel"
   ]
  },
  {
   "cell_type": "code",
   "execution_count": 4,
   "id": "df0bbef9-8620-4cd0-8005-24705485c59e",
   "metadata": {},
   "outputs": [
    {
     "data": {
      "text/plain": [
       "['.ipynb_checkpoints', 'Congphuong', 'Kante', 'Messi', 'obama', 'Ronaldo']"
      ]
     },
     "execution_count": 4,
     "metadata": {},
     "output_type": "execute_result"
    }
   ],
   "source": [
    "# danh sach hinh anh chuan bi \n",
    "faces = './Pillow_01/Faces'\n",
    "os.listdir(faces)"
   ]
  },
  {
   "cell_type": "code",
   "execution_count": 5,
   "id": "c970251e-dbce-4b0a-a504-a91dd2ab6fff",
   "metadata": {},
   "outputs": [],
   "source": [
    "img1 = cv2.imread('./Pillow_01/img/th.jpg')\n",
    "cv2.imshow('Image',img1)\n",
    "cv2.waitKey(0)\n",
    "cv2.destroyAllWindows()"
   ]
  },
  {
   "cell_type": "code",
   "execution_count": 6,
   "id": "008569e4-411c-46fa-ad4b-e436c5613b03",
   "metadata": {},
   "outputs": [
    {
     "name": "stdout",
     "output_type": "stream",
     "text": [
      "[[-0.00600992 -0.10820479 -0.15893662  0.03501324  0.07737229  0.09475695\n",
      "   0.06557967 -0.03499735 -0.06985712 -0.01200356 -0.03268898  0.11469947\n",
      "   0.14573479  0.01278464 -0.11763225 -0.02252352 -0.04224468  0.05441085\n",
      "  -0.01377466  0.17020065  0.1549087  -0.2518361   0.03465542  0.14802967\n",
      "  -0.00244369 -0.0114529  -0.11137871 -0.25309733 -0.05731896  0.12407583\n",
      "  -0.00208241  0.07495363 -0.04824748 -0.0026366  -0.0356188   0.07201789\n",
      "  -0.12991472  0.04794511 -0.12320963 -0.13383079  0.01461774 -0.03282278\n",
      "   0.00592746  0.11673947 -0.07860111 -0.04042094  0.1544471  -0.0016945\n",
      "  -0.06642781 -0.02930678 -0.03971313 -0.21764773  0.05258583 -0.04146545\n",
      "   0.14580679  0.07114135 -0.05799212  0.17709923  0.07473099 -0.1235932\n",
      "   0.03006213  0.07693341  0.14984432 -0.08798128  0.10588823 -0.01391415\n",
      "  -0.04001203  0.00667599 -0.05066695 -0.0548952  -0.0345403   0.08663426\n",
      "  -0.04807851 -0.10602875 -0.04761557  0.09967194  0.01685676  0.05069891\n",
      "   0.0487206   0.02118032 -0.11860822 -0.01914975 -0.10585465 -0.05641302\n",
      "  -0.12996782  0.0498995   0.07816482  0.02010351  0.03792177 -0.06564067\n",
      "   0.02580805 -0.05677855  0.02254035 -0.06520127 -0.06528416  0.01715316\n",
      "  -0.02474539  0.09014171  0.06560858  0.01335357  0.06086894 -0.0324855\n",
      "  -0.00779395  0.03221826 -0.10352504  0.06301901 -0.13990434  0.07219458\n",
      "  -0.11496386 -0.01127024 -0.06065162  0.06974861 -0.04280925 -0.131792\n",
      "  -0.00796629  0.12630834 -0.07622773 -0.06523736 -0.03047556  0.12159041\n",
      "  -0.07880276 -0.04576264 -0.04308221  0.02386795 -0.17679797  0.13044144\n",
      "  -0.14830276 -0.02768859]]\n"
     ]
    }
   ],
   "source": [
    "img = img1.copy()\n",
    "# heigh and width cua anh\n",
    "h,w = img.shape[:2]\n",
    "# prepare input data for face detection\n",
    "blob = cv2.dnn.blobFromImage(img,1.0,(300,300),(104,177,123),swapRB = False,crop = False)\n",
    "# thiet lap dau vao cho mo hinh \n",
    "detectorModel.setInput(blob)\n",
    "detection = detectorModel.forward()\n",
    "# kiem tra co khuon mat k \n",
    "if len(detection) > 0:\n",
    "    i = np.argmax(detection[0,0,:,2])\n",
    "    #chon khuon mat co confidence cao nhat\n",
    "    confidence = detection[0,0,i,2]\n",
    "    if confidence > 0.5:\n",
    "        # tinh hop bao quanh khuon mat\n",
    "        box = detection[0,0,i,3:7] * np.array([w,h,w,h])\n",
    "        (start_x,start_y,end_x,end_y) = box.astype('int')\n",
    "    # trich xuat khuon mat ra\n",
    "    roi = img[start_y: end_y,start_x:end_x]\n",
    "    \n",
    "    # chuan bi dau vao cho model \n",
    "    faceBlob = cv2.dnn.blobFromImage(roi,1/255,(96,96),(0,0,0),swapRB =True,crop = True)\n",
    "    # thiet lap bien dau vao cho mo hinh\n",
    "    descriptorModel.setInput(faceBlob)\n",
    "    # trich xuat dac trung \n",
    "    vectors = descriptorModel.forward()\n",
    "    print(vectors)"
   ]
  },
  {
   "cell_type": "code",
   "execution_count": 7,
   "id": "2a4fe999-d7ab-4458-b69e-c73db247323c",
   "metadata": {},
   "outputs": [],
   "source": [
    "# 1 function cho nhieu anh \n",
    "def detect(path):\n",
    "    img1 = cv2.imread(path)\n",
    "    img = img1.copy()\n",
    "    # heigh and width cua anh\n",
    "    h,w = img.shape[:2]\n",
    "    # prepare input data for face detection\n",
    "    blob = cv2.dnn.blobFromImage(img,1.0,(300,300),(104,177,123),swapRB = False,crop = False)\n",
    "    # thiet lap dau vao cho mo hinh \n",
    "    detectorModel.setInput(blob)\n",
    "    detection = detectorModel.forward()\n",
    "    # kiem tra co khuon mat k \n",
    "    if len(detection) > 0:\n",
    "        #chon khuon mat co confidence cao nhat\n",
    "        i = np.argmax(detection[0,0,:,2])\n",
    "        \n",
    "        confidence = detection[0,0,i,2]\n",
    "        if confidence > 0.5:\n",
    "            # tinh hop bao quanh khuon mat\n",
    "            box = detection[0,0,i,3:7] * np.array([w,h,w,h])\n",
    "            (start_x,start_y,end_x,end_y) = box.astype('int')\n",
    "        # trich xuat khuon mat ra\n",
    "        roi = img[start_y: end_y,start_x:end_x]\n",
    "        \n",
    "        # chuan bi dau vao cho model \n",
    "        faceBlob = cv2.dnn.blobFromImage(roi,1/255,(96,96),(0,0,0),swapRB =True,crop = True)\n",
    "        # thiet lap bien dau vao cho mo hinh\n",
    "        descriptorModel.setInput(faceBlob)\n",
    "        # trich xuat dac trung \n",
    "        vectors = descriptorModel.forward()\n",
    "        return vectors "
   ]
  },
  {
   "cell_type": "code",
   "execution_count": 8,
   "id": "81cd8ead-f59c-4cbb-a39d-9543c91c350d",
   "metadata": {},
   "outputs": [],
   "source": [
    "#apply all image \n",
    "# khoi tao dictionary\n",
    "data = dict(data= [],label = [])\n",
    "mydir = './Pillow_01/Faces'\n",
    "folders = os.listdir(mydir)\n",
    "# duyet qua tung thu muc \n",
    "for folder in folders:\n",
    "    path = mydir + '/' +folder \n",
    "    files = os.listdir(path)\n",
    "    for file in files:\n",
    "        try:\n",
    "            # Gọi hàm trích xuất đặc trưng\n",
    "            vector = detect(path + '/'+file)\n",
    "            if vector is not None:\n",
    "            #Thêm vector đặc trưng vào trong từ điển với nhãn là tên của thư mục\n",
    "                data['data'].append(vector)\n",
    "                data['label'].append(folder)\n",
    "        except:\n",
    "            pass"
   ]
  },
  {
   "cell_type": "code",
   "execution_count": 9,
   "id": "15030728-a0e0-423b-836c-b873d1121b2a",
   "metadata": {},
   "outputs": [
    {
     "data": {
      "text/plain": [
       "dict_keys(['data', 'label'])"
      ]
     },
     "execution_count": 9,
     "metadata": {},
     "output_type": "execute_result"
    }
   ],
   "source": [
    "data.keys()"
   ]
  },
  {
   "cell_type": "code",
   "execution_count": 10,
   "id": "4e73b435-3729-4acd-a3e3-886895b9dc36",
   "metadata": {},
   "outputs": [
    {
     "name": "stdout",
     "output_type": "stream",
     "text": [
      "Congphuong    2\n",
      "Kante         2\n",
      "Messi         2\n",
      "obama         2\n",
      "Ronaldo       2\n",
      "Name: count, dtype: int64\n"
     ]
    }
   ],
   "source": [
    "# Tạo một series từ dictionary\n",
    "labelSeries = pd.Series(data['label'])\n",
    "# Đếm số lần xuất hiện của mỗi nhãn\n",
    "labelCounts = labelSeries.value_counts()\n",
    "print(labelCounts)"
   ]
  },
  {
   "cell_type": "code",
   "execution_count": 11,
   "id": "9e41e721-0271-4e4a-9180-873aa9ca7e19",
   "metadata": {},
   "outputs": [],
   "source": [
    "\n",
    "# Save data -> file\n",
    "\n",
    "fileName = './Pillow_01/img/Results.pickle'\n",
    "pickle.dump(data, open(fileName, mode='wb'))"
   ]
  }
 ],
 "metadata": {
  "kernelspec": {
   "display_name": "Python 3 (ipykernel)",
   "language": "python",
   "name": "python3"
  },
  "language_info": {
   "codemirror_mode": {
    "name": "ipython",
    "version": 3
   },
   "file_extension": ".py",
   "mimetype": "text/x-python",
   "name": "python",
   "nbconvert_exporter": "python",
   "pygments_lexer": "ipython3",
   "version": "3.12.7"
  }
 },
 "nbformat": 4,
 "nbformat_minor": 5
}
