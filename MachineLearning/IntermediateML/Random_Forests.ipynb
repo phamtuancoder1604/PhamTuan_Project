{
 "cells": [
  {
   "cell_type": "code",
   "execution_count": 2,
   "id": "b69c7d15-6e9c-48ec-934f-0046b1ef97d5",
   "metadata": {},
   "outputs": [
    {
     "name": "stdout",
     "output_type": "stream",
     "text": [
      "Mae is 6.164383561643835\n"
     ]
    }
   ],
   "source": [
    "import pandas as pd\n",
    "from sklearn.tree import DecisionTreeRegressor\n",
    "from sklearn.metrics import mean_absolute_error \n",
    "from sklearn.model_selection import train_test_split\n",
    "# Path of the file to read\n",
    "home_data = pd.read_csv('train.csv')\n",
    "y = home_data.SalePrice\n",
    "feature_columns = ['LotArea', 'YearBuilt', '1stFlrSF', '2ndFlrSF', 'FullBath', 'BedroomAbvGr', 'TotRmsAbvGrd']\n",
    "X = home_data[feature_columns]\n",
    "# Split into validation and training data\n",
    "train_X ,val_X, train_y,val_y = train_test_split(X,y,train_size = 0.8,test_size = 0.2,random_state = 0)\n",
    "\n",
    "# Specify Model\n",
    "iowa_model = DecisionTreeRegressor(random_state = 1)\n",
    "# Fit Model\n",
    "iowa_model.fit(X, y)\n",
    "val_predictions = iowa_model.predict(val_X)\n",
    "mae_val  = mean_absolute_error(val_predictions, val_y)\n",
    "print(f\"Mae is {mae_val}\")"
   ]
  },
  {
   "cell_type": "code",
   "execution_count": 4,
   "id": "4149bb53-55c6-4541-b088-c3f44b573d7d",
   "metadata": {},
   "outputs": [
    {
     "name": "stdout",
     "output_type": "stream",
     "text": [
      "Validation MAE for best value of max_leaf_nodes: 29,697\n"
     ]
    }
   ],
   "source": [
    "iowa_model = DecisionTreeRegressor(max_leaf_nodes=100, random_state=1)\n",
    "iowa_model.fit(train_X, train_y)\n",
    "val_predictions = iowa_model.predict(val_X)\n",
    "val_mae = mean_absolute_error(val_predictions, val_y)\n",
    "print(\"Validation MAE for best value of max_leaf_nodes: {:,.0f}\".format(val_mae))"
   ]
  },
  {
   "cell_type": "code",
   "execution_count": 8,
   "id": "95fe83e6-f4f7-414b-b0a0-41e778fddf20",
   "metadata": {},
   "outputs": [
    {
     "name": "stdout",
     "output_type": "stream",
     "text": [
      "24069.385498858446\n"
     ]
    }
   ],
   "source": [
    "from sklearn.ensemble import RandomForestRegressor \n",
    "# Define the model. Set random_state to 1\n",
    "rf  = RandomForestRegressor(random_state = 1)\n",
    "# fit your model\n",
    "rf.fit(train_X , train_y)\n",
    "preds = rf.predict(val_X)\n",
    "# Calculate the mean absolute error of your Random Forest model on the validation data\n",
    "mae = mean_absolute_error(preds, val_y)\n",
    "print(mae)"
   ]
  }
 ],
 "metadata": {
  "kernelspec": {
   "display_name": "Python 3 (ipykernel)",
   "language": "python",
   "name": "python3"
  },
  "language_info": {
   "codemirror_mode": {
    "name": "ipython",
    "version": 3
   },
   "file_extension": ".py",
   "mimetype": "text/x-python",
   "name": "python",
   "nbconvert_exporter": "python",
   "pygments_lexer": "ipython3",
   "version": "3.12.7"
  }
 },
 "nbformat": 4,
 "nbformat_minor": 5
}
