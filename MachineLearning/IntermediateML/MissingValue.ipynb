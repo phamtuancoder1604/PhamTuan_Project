{
 "cells": [
  {
   "cell_type": "code",
   "execution_count": 21,
   "id": "569814a7-2727-4ed0-9a76-d2b84edd7b48",
   "metadata": {},
   "outputs": [],
   "source": [
    "import pandas as pd \n",
    "from sklearn.model_selection import train_test_split\n",
    "# Read the data\n",
    "X_full = pd.read_csv('train.csv', index_col='Id')\n",
    "X_test_full = pd.read_csv('test.csv', index_col='Id')\n",
    "# Remove rows with missing target, separate target from predictors\n",
    "X_full.dropna(axis=0 , subset = ['SalePrice'], inplace = True)\n",
    "y = X_full.SalePrice\n",
    "X_full.drop(['SalePrice'],axis = 1, inplace = True)\n",
    "# To keep things simple, we'll use only numerical predictors\n",
    "X = X_full.select_dtypes(exclude = ['object'])\n",
    "X_test = X_test_full.select_dtypes(exclude = ['object'])\n",
    "# Break off validation set from training data\n",
    "X_train, X_valid, y_train, y_valid = train_test_split(X,y,train_size =0.8,test_size = 0.2,random_state= 0)"
   ]
  },
  {
   "cell_type": "code",
   "execution_count": 27,
   "id": "e460772b-9a40-44bf-ab1d-df9fb4c4da84",
   "metadata": {},
   "outputs": [
    {
     "name": "stdout",
     "output_type": "stream",
     "text": [
      "(1168, 36)\n",
      "LotFrontage    212\n",
      "MasVnrArea       6\n",
      "GarageYrBlt     58\n",
      "dtype: int64\n"
     ]
    }
   ],
   "source": [
    "# Shape of training data (num_rows, num_columns)\n",
    "print(X_train.shape)\n",
    "# Number of missing values in each column of training data\n",
    "missing = X_train.isnull().sum()\n",
    "print(missing[missing > 0])"
   ]
  },
  {
   "cell_type": "code",
   "execution_count": 58,
   "id": "fd370e71-dab2-48eb-a5e0-85900202073f",
   "metadata": {},
   "outputs": [],
   "source": [
    "# Function for comparing different approaches \n",
    "from sklearn.ensemble import RandomForestRegressor \n",
    "from sklearn.metrics import mean_absolute_error \n",
    "def dataset_score(X_train,X_valid, y_train ,y_valid):\n",
    "    rf = RandomForestRegressor(n_estimators = 10 ,random_state = 0)\n",
    "    rf.fit(X_train, y_train)\n",
    "    preds = rf.predict( X_valid)\n",
    "    return mean_absolute_error(preds, y_valid)"
   ]
  },
  {
   "cell_type": "markdown",
   "id": "ecd71bcc-bff6-4b5c-b467-700450e817d8",
   "metadata": {},
   "source": [
    "### Drop Columns with Missing Values¶\n",
    "The simplest option is to drop columns with missing values.\n",
    "\n",
    "Unless most values in the dropped columns are missing, the model loses access to a lot of (potentially useful!) information with this approach. "
   ]
  },
  {
   "cell_type": "code",
   "execution_count": 60,
   "id": "54893279-a5ba-44a9-a23f-a9a4b07a7081",
   "metadata": {},
   "outputs": [],
   "source": [
    "# Fill in the line below: get names of columns with missing values\n",
    "missing_cols = [i  for i in X_train.columns if X_train[i].isnull().sum() > 0 ]\n",
    "# Fill in the line below: get names of columns with missing values\n",
    "reduced_X_train = X_train.drop(missing_cols ,axis = 1)\n",
    "reduced_X_valid = X_valid.drop(missing_cols , axis = 1)\n"
   ]
  },
  {
   "cell_type": "code",
   "execution_count": 62,
   "id": "df22f8d7-b08f-45e6-809a-7a784cdb4362",
   "metadata": {},
   "outputs": [
    {
     "name": "stdout",
     "output_type": "stream",
     "text": [
      "18866.728767123288\n"
     ]
    }
   ],
   "source": [
    "print(dataset_score(reduced_X_train,reduced_X_valid, y_train,y_valid))"
   ]
  },
  {
   "cell_type": "markdown",
   "id": "72cfa6e2-3462-4bbd-a384-f465c4856a60",
   "metadata": {},
   "source": [
    "### Imputation¶\n",
    "Imputation fills in the <span style=\"background-color: #FFFF00\">missing values with some number</span>. For instance, we can fill in the mean value along each column.\n",
    "\n",
    "The imputed value <span style=\"background-color: #FFFF00\">won't be exactly right in most cases</span>, but it usually <span style=\"background-color: #FFFF00\">leads to more accurate models</span> than you would get from dropping the column entirely."
   ]
  },
  {
   "cell_type": "code",
   "execution_count": 70,
   "id": "75d1e6d3-b4b0-46ef-977e-b09a8b7f8248",
   "metadata": {},
   "outputs": [],
   "source": [
    "# Fill in the lines below: imputation\n",
    "from sklearn.impute import SimpleImputer \n",
    "si = SimpleImputer()\n",
    "imputed_X_train = pd.DataFrame(si.fit_transform(X_train))\n",
    "imputed_X_valid = pd.DataFrame(si.transform(X_valid))\n",
    "# Fill in the lines below: imputation removed column names; put them back\n",
    "imputed_X_train.columns = X_train.columns\n",
    "imputed_X_valid.columns = X_valid.columns"
   ]
  },
  {
   "cell_type": "markdown",
   "id": "6069a7d1-b02e-4770-92ea-cfdba9f7ffb3",
   "metadata": {},
   "source": [
    "### An Extension To Imputation \n",
    "Imputation is the standard approach, and it usually works well. However, imputed values may be <span style=\"background-color: #FFFF00\">systematically above or below their actual values</span> (which weren't collected in the dataset). Or rows with missing values may be unique in some other way. In that case, your model would make better predictions <span style=\"background-color: #FFFF00\">by considering which values were originally missing</span>.\n",
    "\n",
    "In this approach, we impute the missing values, as before. And, additionally, <span style=\"background-color: #FFFF00\">for each column with missing entries in the original dataset, we add a new column that shows the location of the imputed entries</span>.\n",
    "\n",
    "In some cases, this will meaningfully improve results. In other cases, it doesn't help at all."
   ]
  },
  {
   "cell_type": "code",
   "execution_count": 72,
   "id": "4c93867c-6c99-433b-8dce-a0a15a546256",
   "metadata": {},
   "outputs": [],
   "source": [
    "# Preprocessed training and validation features\n",
    "impute = SimpleImputer(strategy = 'mean')\n",
    "final_X_train = pd.DataFrame(impute.fit_transform(X_train))\n",
    "final_X_valid = pd.DataFrame(impute.transform(X_valid))"
   ]
  },
  {
   "cell_type": "code",
   "execution_count": 76,
   "id": "b3c14c32-788f-4010-9133-a7aaba841bb3",
   "metadata": {},
   "outputs": [
    {
     "name": "stdout",
     "output_type": "stream",
     "text": [
      "18062.894611872147\n"
     ]
    }
   ],
   "source": [
    "# Define and fit model\n",
    "random = RandomForestRegressor(n_estimators = 100, random_state = 0)\n",
    "random.fit(final_X_train,y_train)\n",
    "preds = random.predict(final_X_valid)\n",
    "# Get validation predictions and MAE\n",
    "print(mean_absolute_error(preds , y_valid))"
   ]
  },
  {
   "cell_type": "code",
   "execution_count": 82,
   "id": "60e18080-d243-43a8-b3be-e26fc7b435a6",
   "metadata": {},
   "outputs": [],
   "source": [
    "# Fill in the line below: preprocess test data\n",
    "final_X_test = pd.DataFrame(impute.transform(X_test))\n",
    "preds_test = random.predict(final_X_test)\n",
    "# Fill in the line below: get test predictions"
   ]
  },
  {
   "cell_type": "code",
   "execution_count": 86,
   "id": "5da7d7fc-b5ab-4326-b085-5cacc64885ae",
   "metadata": {},
   "outputs": [
    {
     "data": {
      "text/html": [
       "<div>\n",
       "<style scoped>\n",
       "    .dataframe tbody tr th:only-of-type {\n",
       "        vertical-align: middle;\n",
       "    }\n",
       "\n",
       "    .dataframe tbody tr th {\n",
       "        vertical-align: top;\n",
       "    }\n",
       "\n",
       "    .dataframe thead th {\n",
       "        text-align: right;\n",
       "    }\n",
       "</style>\n",
       "<table border=\"1\" class=\"dataframe\">\n",
       "  <thead>\n",
       "    <tr style=\"text-align: right;\">\n",
       "      <th></th>\n",
       "      <th>ID</th>\n",
       "      <th>SalePrice</th>\n",
       "    </tr>\n",
       "  </thead>\n",
       "  <tbody>\n",
       "    <tr>\n",
       "      <th>0</th>\n",
       "      <td>1461</td>\n",
       "      <td>125245.50</td>\n",
       "    </tr>\n",
       "    <tr>\n",
       "      <th>1</th>\n",
       "      <td>1462</td>\n",
       "      <td>155237.00</td>\n",
       "    </tr>\n",
       "    <tr>\n",
       "      <th>2</th>\n",
       "      <td>1463</td>\n",
       "      <td>180755.22</td>\n",
       "    </tr>\n",
       "    <tr>\n",
       "      <th>3</th>\n",
       "      <td>1464</td>\n",
       "      <td>184071.50</td>\n",
       "    </tr>\n",
       "    <tr>\n",
       "      <th>4</th>\n",
       "      <td>1465</td>\n",
       "      <td>197144.40</td>\n",
       "    </tr>\n",
       "    <tr>\n",
       "      <th>...</th>\n",
       "      <td>...</td>\n",
       "      <td>...</td>\n",
       "    </tr>\n",
       "    <tr>\n",
       "      <th>1454</th>\n",
       "      <td>2915</td>\n",
       "      <td>87277.12</td>\n",
       "    </tr>\n",
       "    <tr>\n",
       "      <th>1455</th>\n",
       "      <td>2916</td>\n",
       "      <td>87025.50</td>\n",
       "    </tr>\n",
       "    <tr>\n",
       "      <th>1456</th>\n",
       "      <td>2917</td>\n",
       "      <td>154283.87</td>\n",
       "    </tr>\n",
       "    <tr>\n",
       "      <th>1457</th>\n",
       "      <td>2918</td>\n",
       "      <td>107723.50</td>\n",
       "    </tr>\n",
       "    <tr>\n",
       "      <th>1458</th>\n",
       "      <td>2919</td>\n",
       "      <td>228591.59</td>\n",
       "    </tr>\n",
       "  </tbody>\n",
       "</table>\n",
       "<p>1459 rows × 2 columns</p>\n",
       "</div>"
      ],
      "text/plain": [
       "        ID  SalePrice\n",
       "0     1461  125245.50\n",
       "1     1462  155237.00\n",
       "2     1463  180755.22\n",
       "3     1464  184071.50\n",
       "4     1465  197144.40\n",
       "...    ...        ...\n",
       "1454  2915   87277.12\n",
       "1455  2916   87025.50\n",
       "1456  2917  154283.87\n",
       "1457  2918  107723.50\n",
       "1458  2919  228591.59\n",
       "\n",
       "[1459 rows x 2 columns]"
      ]
     },
     "execution_count": 86,
     "metadata": {},
     "output_type": "execute_result"
    }
   ],
   "source": [
    "output = pd.DataFrame({'ID' : X_test.index,'SalePrice': preds_test})\n",
    "output"
   ]
  }
 ],
 "metadata": {
  "kernelspec": {
   "display_name": "Python 3 (ipykernel)",
   "language": "python",
   "name": "python3"
  },
  "language_info": {
   "codemirror_mode": {
    "name": "ipython",
    "version": 3
   },
   "file_extension": ".py",
   "mimetype": "text/x-python",
   "name": "python",
   "nbconvert_exporter": "python",
   "pygments_lexer": "ipython3",
   "version": "3.12.7"
  }
 },
 "nbformat": 4,
 "nbformat_minor": 5
}
