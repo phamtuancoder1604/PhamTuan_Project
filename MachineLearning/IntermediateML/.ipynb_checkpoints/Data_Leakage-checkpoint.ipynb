{
 "cells": [
  {
   "cell_type": "markdown",
   "id": "4352b56f-b8f5-4545-a75a-983b44d98d7e",
   "metadata": {},
   "source": [
    "https://www.kaggle.com/code/alexisbcook/data-leakage"
   ]
  },
  {
   "cell_type": "markdown",
   "id": "6b0bb643-bbae-4a4c-8ee3-0619200e744a",
   "metadata": {},
   "source": [
    "Data leakage (or leakage) happens when your training data contains information about the target, but similar data will not be available when the model is used for prediction. This leads to high performance on the training set (and possibly even the validation data), but the model will perform poorly in production.\n",
    "\n",
    "In other words, leakage causes a model to look accurate until you start making decisions with the model, and then the model becomes very inaccurate.\n",
    "\n",
    "There are two main types of leakage: target leakage and train-test contamination.\n",
    "\n",
    "Target leakage\n",
    "Target leakage occurs when your predictors include data that will not be available at the time you make predictions. It is important to think about target leakage in terms of the timing or chronological order that data becomes available, not merely whether a feature helps make good predictions.\n",
    "\n",
    "An example will be helpful. Imagine you want to predict who will get sick with pneumonia. The top few rows of your raw data look like this:\n",
    "\n",
    "got_pneumonia\tage\tweight\tmale\ttook_antibiotic_medicine\t...\n",
    "False\t65\t100\tFalse\tFalse\t...\n",
    "False\t72\t130\tTrue\tFalse\t...\n",
    "True\t58\t100\tFalse\tTrue\t...\n",
    "People take antibiotic medicines after getting pneumonia in order to recover. The raw data shows a strong relationship between those columns, but took_antibiotic_medicine is frequently changed after the value for got_pneumonia is determined. This is target leakage.\n",
    "\n",
    "The model would see that anyone who has a value of False for took_antibiotic_medicine didn't have pneumonia. Since validation data comes from the same source as training data, the pattern will repeat itself in validation, and the model will have great validation (or cross-validation) scores.\n",
    "\n",
    "But the model will be very inaccurate when subsequently deployed in the real world, because even patients who will get pneumonia won't have received antibiotics yet when we need to make predictions about their future health.\n",
    "\n",
    "To prevent this type of data leakage, any variable updated (or created) after the target value is realized should be excluded."
   ]
  },
  {
   "cell_type": "markdown",
   "id": "af729246-2230-4a5b-a231-355670da794d",
   "metadata": {},
   "source": [
    "Train-Test Contamination¶\n",
    "A different type of leak occurs when you aren't careful to distinguish training data from validation data.\n",
    "\n",
    "Recall that validation is meant to be a measure of how the model does on data that it hasn't considered before. You can corrupt this process in subtle ways if the validation data affects the preprocessing behavior. This is sometimes called train-test contamination.\n",
    "\n",
    "For example, imagine you run preprocessing (like fitting an imputer for missing values) before calling train_test_split(). The end result? Your model may get good validation scores, giving you great confidence in it, but perform poorly when you deploy it to make decisions.\n",
    "\n",
    "After all, you incorporated data from the validation or test data into how you make predictions, so the may do well on that particular data even if it can't generalize to new data. This problem becomes even more subtle (and more dangerous) when you do more complex feature engineering.\n",
    "\n",
    "If your validation is based on a simple train-test split, exclude the validation data from any type of fitting, including the fitting of preprocessing steps. This is easier if you use scikit-learn pipelines. When using cross-validation, it's even more critical that you do your preprocessing inside the pipeline!\n",
    "\n",
    "In this example, you will learn one way to detect and remove target leakage.\n",
    "\n",
    "We will use a dataset about credit card applications and skip the basic data set-up code. The end result is that information about each credit card application is stored in a DataFrame X. We'll use it to predict which applications were accepted in a Series y."
   ]
  },
  {
   "cell_type": "code",
   "execution_count": null,
   "id": "6d374b2a-b53f-4634-b316-b775edfc9a28",
   "metadata": {},
   "outputs": [],
   "source": [
    "import pandas as pd\n",
    "\n",
    "# Read the data\n",
    "data = pd.read_csv('../input/aer-credit-card-data/AER_credit_card_data.csv', \n",
    "                   true_values = ['yes'], false_values = ['no'])\n",
    "\n",
    "# Select target\n",
    "y = data.card\n",
    "\n",
    "# Select predictors\n",
    "X = data.drop(['card'], axis=1)\n",
    "\n",
    "print(\"Number of rows in the dataset:\", X.shape[0])\n",
    "X.head()"
   ]
  },
  {
   "cell_type": "raw",
   "id": "f87054c7-e441-4b6e-a47f-68537a59d42c",
   "metadata": {},
   "source": [
    "Number of rows in the dataset: 1319\n",
    "reports\tage\tincome\tshare\texpenditure\towner\tselfemp\tdependents\tmonths\tmajorcards\tactive\n",
    "0\t0\t37.66667\t4.5200\t0.033270\t124.983300\tTrue\tFalse\t3\t54\t1\t12\n",
    "1\t0\t33.25000\t2.4200\t0.005217\t9.854167\tFalse\tFalse\t3\t34\t1\t13\n",
    "2\t0\t33.66667\t4.5000\t0.004156\t15.000000\tTrue\tFalse\t4\t58\t1\t5\n",
    "3\t0\t30.50000\t2.5400\t0.065214\t137.869200\tFalse\tFalse\t0\t25\t1\t7\n",
    "4\t0\t32.16667\t9.7867\t0.067051\t546.503300\tTrue\tFalse\t2\t64\t1\t5\n",
    "Since this is a small dataset, we will use cross-validation to ensure accurate measures of model quality."
   ]
  },
  {
   "cell_type": "code",
   "execution_count": null,
   "id": "9502059f-4cb8-42e1-9051-2211a07851eb",
   "metadata": {},
   "outputs": [],
   "source": [
    "from sklearn.pipeline import make_pipeline\n",
    "from sklearn.ensemble import RandomForestClassifier\n",
    "from sklearn.model_selection import cross_val_score\n",
    "\n",
    "# Since there is no preprocessing, we don't need a pipeline (used anyway as best practice!)\n",
    "my_pipeline = make_pipeline(RandomForestClassifier(n_estimators=100))\n",
    "cv_scores = cross_val_score(my_pipeline, X, y, \n",
    "                            cv=5,\n",
    "                            scoring='accuracy')\n",
    "\n",
    "print(\"Cross-validation accuracy: %f\" % cv_scores.mean())"
   ]
  },
  {
   "cell_type": "raw",
   "id": "a23d658c-1e7a-4fc0-8402-8c394671d6c0",
   "metadata": {},
   "source": [
    "Cross-validation accuracy: 0.981052\n",
    "With experience, you'll find that it's very rare to find models that are accurate 98% of the time. It happens, but it's uncommon enough that we should inspect the data more closely for target leakage.\n",
    "\n",
    "Here is a summary of the data, which you can also find under the data tab:\n",
    "\n",
    "card: 1 if credit card application accepted, 0 if not\n",
    "reports: Number of major derogatory reports\n",
    "age: Age n years plus twelfths of a year\n",
    "income: Yearly income (divided by 10,000)\n",
    "share: Ratio of monthly credit card expenditure to yearly income\n",
    "expenditure: Average monthly credit card expenditure\n",
    "owner: 1 if owns home, 0 if rents\n",
    "selfempl: 1 if self-employed, 0 if not\n",
    "dependents: 1 + number of dependents\n",
    "months: Months living at current address\n",
    "majorcards: Number of major credit cards held\n",
    "active: Number of active credit accounts\n",
    "A few variables look suspicious. For example, does expenditure mean expenditure on this card or on cards used before applying?\n",
    "\n",
    "At this point, basic data comparisons can be very helpful:"
   ]
  },
  {
   "cell_type": "code",
   "execution_count": null,
   "id": "31972f82-74cf-4daa-8948-727ae06b1d49",
   "metadata": {},
   "outputs": [],
   "source": [
    "expenditures_cardholders = X.expenditure[y]\n",
    "expenditures_noncardholders = X.expenditure[~y]\n",
    "\n",
    "print('Fraction of those who did not receive a card and had no expenditures: %.2f' \\\n",
    "      %((expenditures_noncardholders == 0).mean()))\n",
    "print('Fraction of those who received a card and had no expenditures: %.2f' \\\n",
    "      %(( expenditures_cardholders == 0).mean()))"
   ]
  },
  {
   "cell_type": "raw",
   "id": "4b0bc4f0-3acc-4386-b9df-1c93e3d352b6",
   "metadata": {},
   "source": [
    "Fraction of those who did not receive a card and had no expenditures: 1.00\n",
    "Fraction of those who received a card and had no expenditures: 0.02\n",
    "As shown above, everyone who did not receive a card had no expenditures, while only 2% of those who received a card had no expenditures. It's not surprising that our model appeared to have a high accuracy. But this also seems to be a case of target leakage, where expenditures probably means expenditures on the card they applied for.\n",
    "\n",
    "Since share is partially determined by expenditure, it should be excluded too. The variables active and majorcards are a little less clear, but from the description, they sound concerning. In most situations, it's better to be safe than sorry if you can't track down the people who created the data to find out more.\n",
    "\n",
    "We would run a model without target leakage as follows:"
   ]
  },
  {
   "cell_type": "code",
   "execution_count": null,
   "id": "474e9aa4-d3e5-446f-b9b7-19663134e333",
   "metadata": {},
   "outputs": [],
   "source": [
    "# Drop leaky predictors from dataset\n",
    "potential_leaks = ['expenditure', 'share', 'active', 'majorcards']\n",
    "X2 = X.drop(potential_leaks, axis=1)\n",
    "\n",
    "# Evaluate the model with leaky predictors removed\n",
    "cv_scores = cross_val_score(my_pipeline, X2, y, \n",
    "                            cv=5,\n",
    "                            scoring='accuracy')\n",
    "\n",
    "print(\"Cross-val accuracy: %f\" % cv_scores.mean())"
   ]
  },
  {
   "cell_type": "raw",
   "id": "ff26f9e1-c077-4185-b31f-27a51184ba30",
   "metadata": {},
   "source": [
    "This accuracy is quite a bit lower, which might be disappointing. However, we can expect it to be right about 80% of the time when used on new applications, whereas the leaky model would likely do much worse than that (in spite of its higher apparent score in cross-validation).\n",
    "\n",
    "Conclusion\n",
    "Data leakage can be multi-million dollar mistake in many data science applications. Careful separation of training and validation data can prevent train-test contamination, and pipelines can help implement this separation. Likewise, a combination of caution, common sense, and data exploration can help identify target leakage."
   ]
  }
 ],
 "metadata": {
  "kernelspec": {
   "display_name": "Python 3 (ipykernel)",
   "language": "python",
   "name": "python3"
  },
  "language_info": {
   "codemirror_mode": {
    "name": "ipython",
    "version": 3
   },
   "file_extension": ".py",
   "mimetype": "text/x-python",
   "name": "python",
   "nbconvert_exporter": "python",
   "pygments_lexer": "ipython3",
   "version": "3.12.7"
  }
 },
 "nbformat": 4,
 "nbformat_minor": 5
}
