{
 "cells": [
  {
   "cell_type": "markdown",
   "id": "2f860ace-d6a7-44b6-8418-2e96d0c90586",
   "metadata": {},
   "source": [
    "<span style=\"background-color: #FFFF00\">ensemble methods combine the predictions of several models</span> (e.g., several trees, in the case of random forests).\n",
    "\n",
    "#### Gradient Boosting\n",
    "<span style=\"background-color: #FFFF00\">Gradient boosting is a method that goes through cycles to iteratively add models into an ensemble</span>.\n",
    "\n",
    "It begins by <span style=\"background-color: #FFFF00\">initializing the ensemble with a single model, whose predictions can be pretty naive</span>. (Even if its predictions are wildly inaccurate, subsequent additions to the ensemble will address those errors.)\n",
    "\n",
    "Then, we start the cycle:\n",
    "\n",
    "- First, we use the <span style=\"background-color: #FFFF00\">current ensemble to generate predictions for each observation in the datase</span>t. To make a prediction, we <span style=\"background-color: #FFFF00\">add the predictions from all models in the ensemble</span>.\n",
    "- These <span style=\"background-color: #FFFF00\">predictions are used to calculate a loss function (like mean squared error, for instance)</span>.\n",
    "- Then, we <span style=\"background-color: #FFFF00\">use the loss function to fit a new model that will be added to the ensemble</span>. Specifically, we <span style=\"background-color: #FFFF00\">determine model parameters so that adding this new model to the ensemble will reduce the loss</span>. (Side note: The \"gradient\" in \"gradient boosting\" refers to the fact that we'll use gradient descent on the loss function to determine the parameters in this new model.)\n",
    "- Finally, we add the new model to ensemble, and ...\n",
    "... repeat!"
   ]
  },
  {
   "cell_type": "code",
   "execution_count": 12,
   "id": "d8c5668d-6a0e-405b-b30b-9a9d7938480e",
   "metadata": {},
   "outputs": [],
   "source": [
    "import pandas as pd\n",
    "from sklearn.model_selection import train_test_split\n",
    "\n",
    "# Read the data\n",
    "X = pd.read_csv('train.csv', index_col='Id')\n",
    "X_test_full = pd.read_csv('test.csv', index_col='Id')\n",
    "\n",
    "# Remove rows with missing target, separate target from predictors\n",
    "X.dropna(axis=0, subset=['SalePrice'], inplace=True)\n",
    "y = X.SalePrice              \n",
    "X.drop(['SalePrice'], axis=1, inplace=True)\n",
    "\n",
    "# Break off validation set from training data\n",
    "X_train_full, X_valid_full, y_train, y_valid = train_test_split(X, y, train_size=0.8, test_size=0.2,\n",
    "                                                                random_state=0)\n",
    "\n",
    "# \"Cardinality\" means the number of unique values in a column\n",
    "# Select categorical columns with relatively low cardinality (convenient but arbitrary)\n",
    "low_cardinality_cols = [cname for cname in X_train_full.columns if X_train_full[cname].nunique() < 10 and \n",
    "                        X_train_full[cname].dtype == \"object\"]\n",
    "\n",
    "# Select numeric columns\n",
    "numeric_cols = [cname for cname in X_train_full.columns if X_train_full[cname].dtype in ['int64', 'float64']]\n",
    "\n",
    "# Keep selected columns only\n",
    "my_cols = low_cardinality_cols + numeric_cols\n",
    "X_train = X_train_full[my_cols].copy()\n",
    "X_valid = X_valid_full[my_cols].copy()\n",
    "X_test = X_test_full[my_cols].copy()\n",
    "\n",
    "# One-hot encode the data (to shorten the code, we use pandas)\n",
    "X_train = pd.get_dummies(X_train)\n",
    "X_valid = pd.get_dummies(X_valid)\n",
    "X_test = pd.get_dummies(X_test)\n",
    "X_train, X_valid = X_train.align(X_valid, join='left', axis=1)\n",
    "X_train, X_test = X_train.align(X_test, join='left', axis=1)"
   ]
  },
  {
   "cell_type": "markdown",
   "id": "d8622b0b-d8fd-4270-b31f-358f484d0351",
   "metadata": {},
   "source": [
    "#### n_estimators\n",
    "specifies how many <span style=\"background-color: #FFFF00\">times to go through the modeling cycle described above</span>. It is <span style=\"background-color: #FFFF00\">equal to the number of models</span> that we include in the ensemble.\n",
    "\n",
    "Too <span style=\"background-color: #FFFF00\">low a value causes underfitting</span>, which leads to <span style=\"background-color: #FFFF00\">inaccurate predictions on both training data and test data</span>.\n",
    "\n",
    "Too <span style=\"background-color: #FFFF00\">high a value causes overfitting, which causes <span style=\"background-color: #FFFF00\">accurate predictions on training data, but inaccurate predictions on test data</span> (which is what we care about).\n",
    "Typical values range from 100-1000,"
   ]
  },
  {
   "cell_type": "raw",
   "id": "da4971fb-b0dd-4c16-a144-546f8888d925",
   "metadata": {},
   "source": [
    "my_model = XGBRegressor(n_estimators=500)\n",
    "my_model.fit(X_train, y_train)"
   ]
  },
  {
   "cell_type": "markdown",
   "id": "663c1aee-ec74-4821-9bb4-05e83fd9e780",
   "metadata": {},
   "source": [
    "#### early_stopping_rounds¶\n",
    "early_stopping_rounds offers a way to automatically <span style=\"background-color: #FFFF00\">find the ideal value for n_estimators</span>. Early stopping causes the model to stop iterating <span style=\"background-color: #FFFF00\">when the validation score stops improving</span>, even if we aren't at the hard stop for n_estimators. It's smart to set a high value for n_estimators and then use early_stopping_rounds to find the optimal time to stop iterating.\n",
    "\n",
    "Since random chance sometimes causes a single round where <span style=\"background-color: #FFFF00\">validation scores don't improve</span>, you need to <span style=\"background-color: #FFFF00\">specify a number for how many rounds of straight deterioration to allow before stopping</span>. Setting early_stopping_rounds=5 is a reasonable choice. In this case, we stop after 5 straight rounds of deteriorating validation scores.\n",
    "\n",
    "When using early_stopping_rounds, you also <span style=\"background-color: #FFFF00\">need to set aside some data for calculating the validation scores - this is done by setting the eval_set parameter</span>\n",
    "."
   ]
  },
  {
   "cell_type": "raw",
   "id": "298efd36-d2ac-4e55-ba1b-2dd0750c4167",
   "metadata": {},
   "source": [
    "my_model = XGBRegressor(n_estimators=500)\n",
    "my_model.fit(X_train, y_train, \n",
    "             early_stopping_rounds=5, \n",
    "             eval_set=[(X_valid, y_valid)],\n",
    "             verbose=False)"
   ]
  },
  {
   "cell_type": "markdown",
   "id": "38ab7542-37d4-4bbe-91dc-fdb4dd866f40",
   "metadata": {},
   "source": [
    "#### learning_rate\n",
    "Instead of getting predictions by simply adding up the predictions from each component model, we can<span style=\"background-color: #FFFF00\"> multiply the predictions from each model by a small number (known as the learning rate) before adding them in</span>.\n",
    "\n",
    "This <span style=\"background-color: #FFFF00\">means each tree we add to the ensemble helps us less. So, we can set a higher value for n_estimators without overfitting</span>. If we use early stopping, the appropriate number of trees will be determined automatically.\n",
    "\n",
    "In general, a <span style=\"background-color: #FFFF00\">small learning rate and large number of estimators will yield more accurate XGBoost models,</span> though it will also take the model longer to train since it does more iterations through the cycle. As default, <span style=\"background-color: #FFFF00\">XGBoost sets learning_rate=0.1</span>."
   ]
  },
  {
   "cell_type": "raw",
   "id": "8a45cee5-1dd7-4a00-a017-9f0be448aa80",
   "metadata": {},
   "source": [
    "my_model = XGBRegressor(n_estimators=1000, learning_rate=0.05)\n",
    "my_model.fit(X_train, y_train, \n",
    "             early_stopping_rounds=5, \n",
    "             eval_set=[(X_valid, y_valid)], \n",
    "             verbose=False)"
   ]
  },
  {
   "cell_type": "markdown",
   "id": "d2c852fb-5b31-41c8-9d5b-7f6cb9940ca8",
   "metadata": {},
   "source": [
    "### n_jobs\n",
    "On larger datasets where runtime is a consideration, <span style=\"background-color: #FFFF00\">parallelism to build your models faster</span>. It's common to set the parameter <span style=\"background-color: #FFFF00\">n_jobs equal to the number of cores on your machine</span>. On smaller datasets, this won't help.\n",
    "\n",
    "It's <span style=\"background-color: #FFFF00\">useful in large datasets where you would otherwise spend a long time waiting during the fit command</span>."
   ]
  },
  {
   "cell_type": "raw",
   "id": "6d5224c4-2298-4148-8a78-0f178594dc5d",
   "metadata": {},
   "source": [
    "my_model = XGBRegressor(n_estimators=1000, learning_rate=0.05, n_jobs=4)\n",
    "my_model.fit(X_train, y_train, \n",
    "             early_stopping_rounds=5, \n",
    "             eval_set=[(X_valid, y_valid)], \n",
    "             verbose=False)"
   ]
  },
  {
   "cell_type": "code",
   "execution_count": 30,
   "id": "3129ddf4-8209-42ca-b087-d11448a324a8",
   "metadata": {},
   "outputs": [
    {
     "name": "stderr",
     "output_type": "stream",
     "text": [
      "C:\\Users\\ASUS\\anaconda3\\Lib\\site-packages\\xgboost\\core.py:158: UserWarning: [22:00:27] WARNING: C:\\buildkite-agent\\builds\\buildkite-windows-cpu-autoscaling-group-i-08cbc0333d8d4aae1-1\\xgboost\\xgboost-ci-windows\\src\\learner.cc:740: \n",
      "Parameters: { \"learining_rate\" } are not used.\n",
      "\n",
      "  warnings.warn(smsg, UserWarning)\n"
     ]
    },
    {
     "name": "stdout",
     "output_type": "stream",
     "text": [
      "Mean Absolute Error: 18298.11336151541\n"
     ]
    }
   ],
   "source": [
    "from xgboost import XGBRegressor,XGBClassifier,XGBModel\n",
    "from sklearn.metrics import mean_absolute_error\n",
    "# Define the model\n",
    "my_model_3 = XGBModel(n_estimators = 1000, random_state = 0,learining_rate = 0.1)\n",
    "\n",
    "# Fit the model\n",
    "my_model_3.fit(X_train,y_train,verbose = True)# Your code here\n",
    "\n",
    "# Get predictions\n",
    "predictions_3 = my_model_3.predict(X_valid)\n",
    "\n",
    "# Calculate MAE\n",
    "mae_3 = mean_absolute_error(predictions_3,y_valid)\n",
    "\n",
    "# Uncomment to print MAE\n",
    "print(\"Mean Absolute Error:\" , mae_3)"
   ]
  }
 ],
 "metadata": {
  "kernelspec": {
   "display_name": "Python 3 (ipykernel)",
   "language": "python",
   "name": "python3"
  },
  "language_info": {
   "codemirror_mode": {
    "name": "ipython",
    "version": 3
   },
   "file_extension": ".py",
   "mimetype": "text/x-python",
   "name": "python",
   "nbconvert_exporter": "python",
   "pygments_lexer": "ipython3",
   "version": "3.12.7"
  }
 },
 "nbformat": 4,
 "nbformat_minor": 5
}
