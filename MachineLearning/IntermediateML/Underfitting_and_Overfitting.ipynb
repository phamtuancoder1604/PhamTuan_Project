{
 "cells": [
  {
   "cell_type": "markdown",
   "id": "c1fdc01f-27f0-405a-9a8c-589875117b07",
   "metadata": {},
   "source": [
    "In practice, it's not uncommon for a tree to have 10 splits between the top level (all houses) and a leaf. As the tree gets deeper, the dataset gets sliced up into leaves with fewer houses. If a tree only had 1 split, it divides the data into 2 groups. If each group is split again, we would get 4 groups of houses. Splitting each of those again would create 8 groups. If we keep doubling the number of groups by adding more splits at each level, we'll have  \n",
    "2\n",
    "10\n",
    "  groups of houses by the time we get to the 10th level. That's 1024 leaves.\n",
    "\n",
    "When we divide the houses amongst many leaves, we also have fewer houses in each leaf. Leaves with very few houses will make predictions that are quite close to those homes' actual values, but they may make very unreliable predictions for new data (because each prediction is based on only a few houses)."
   ]
  },
  {
   "cell_type": "code",
   "execution_count": 26,
   "id": "0d0bade1-0014-4ebe-b76e-1b2617838d66",
   "metadata": {},
   "outputs": [
    {
     "name": "stdout",
     "output_type": "stream",
     "text": [
      "Mae is 6.164383561643835\n"
     ]
    }
   ],
   "source": [
    "import pandas as pd\n",
    "from sklearn.tree import DecisionTreeRegressor\n",
    "from sklearn.metrics import mean_absolute_error \n",
    "from sklearn.model_selection import train_test_split\n",
    "# Path of the file to read\n",
    "home_data = pd.read_csv('train.csv')\n",
    "y = home_data.SalePrice\n",
    "feature_columns = ['LotArea', 'YearBuilt', '1stFlrSF', '2ndFlrSF', 'FullBath', 'BedroomAbvGr', 'TotRmsAbvGrd']\n",
    "X = home_data[feature_columns]\n",
    "# Split into validation and training data\n",
    "train_X ,val_X, train_y,val_y = train_test_split(X,y,train_size = 0.8,test_size = 0.2,random_state = 0)\n",
    "\n",
    "# Specify Model\n",
    "iowa_model = DecisionTreeRegressor(random_state = 1)\n",
    "# Fit Model\n",
    "iowa_model.fit(X, y)\n",
    "val_predictions = iowa_model.predict(val_X)\n",
    "mae_val  = mean_absolute_error(val_predictions, val_y)\n",
    "print(f\"Mae is {mae_val}\")"
   ]
  },
  {
   "cell_type": "markdown",
   "id": "e5185bae-3879-4c95-8a93-fc07fa920548",
   "metadata": {},
   "source": [
    "#### overfitting\n",
    "This is a phenomenon called overfitting, where a <span style=\"background-color: #FFFF00\">model matches the training data almost perfectly</span>, but does <span style=\"background-color: #FFFF00\">poorly in validation and other new data</span>. On the flip side, if we make our tree very shallow, it doesn't divide up the houses into very distinct groups."
   ]
  },
  {
   "cell_type": "markdown",
   "id": "1827c30a-c516-4da1-b6c1-aba64928a7f8",
   "metadata": {},
   "source": [
    "#### max_leaf_nodes\n",
    "- Controlling the tree depth\n",
    "- But the max_leaf_nodes argument provides a very sensible way to control overfitting vs underfitting. The more leaves we allow the model to make, the more we move from the underfitting area in the above graph to the overfitting area."
   ]
  },
  {
   "cell_type": "code",
   "execution_count": 36,
   "id": "2e4784ff-0377-48dd-bd5c-7fec7409a944",
   "metadata": {},
   "outputs": [],
   "source": [
    "def get_mae(max_leaf_nodes,train_X= train_X ,val_X = val_X, train_y = train_y,val_y = val_y):\n",
    "    model = DecisionTreeRegressor(max_leaf_nodes = max_leaf_nodes ,random_state = 0)\n",
    "    model.fit( train_X, train_y)\n",
    "    preds = model.predict(val_X)\n",
    "    mae = mean_absolute_error(preds,val_y)\n",
    "    return mae "
   ]
  },
  {
   "cell_type": "markdown",
   "id": "d5886ffd-c040-43bf-829e-8d5acb8fecdf",
   "metadata": {},
   "source": [
    "#### underfitting\n",
    "At an extreme, if a tree divides houses into only 2 or 4, each group still has a <span style=\"background-color: #FFFF00\">wide variety of houses</span>. <span style=\"background-color: #FFFF00\">Resulting predictions may be far off for most houses</span>, even in the training data (and it will be bad in validation too for the same reason). When a <span style=\"background-color: #FFFF00\">model fails to capture important distinctions and patterns in the data</span>, so it performs poorly even in training data, that is called underfitting."
   ]
  },
  {
   "cell_type": "code",
   "execution_count": 44,
   "id": "7fb532d3-4b5d-4f67-b7ba-64254832cbc7",
   "metadata": {},
   "outputs": [
    {
     "name": "stdout",
     "output_type": "stream",
     "text": [
      "{5: 36986.81844313694, 25: 29382.773183350568, 50: 27486.37338812241, 100: 29542.863076302427, 250: 33826.44190321383, 500: 35130.000092411385}\n",
      "50\n"
     ]
    }
   ],
   "source": [
    "import math\n",
    "candidate_max_leaf_nodes = [5, 25, 50, 100, 250, 500]\n",
    "scores = {} \n",
    "# Write loop to find the ideal tree size from candidate_max_leaf_nodes\n",
    "for i in candidate_max_leaf_nodes :\n",
    "    score = get_mae(i)\n",
    "    scores[i] = score\n",
    "print(scores)\n",
    "# Store the best value of max_leaf_nodes (it will be either 5, 25, 50, 100, 250 or 500)\n",
    "best = 0\n",
    "min_score = math.inf\n",
    "for key,val in scores.items():\n",
    "    if val < min_score: \n",
    "        best = key\n",
    "        min_score = val\n",
    "print(best)"
   ]
  },
  {
   "cell_type": "markdown",
   "id": "bde6dc23-19df-41bc-a86a-1971426ef008",
   "metadata": {
    "jp-MarkdownHeadingCollapsed": true
   },
   "source": [
    "### Conclusion¶\n",
    "Here's the takeaway: Models can suffer from either:\n",
    "\n",
    "- Overfitting: capturing spurious patterns that won't recur in the future, leading to less accurate predictions, or\n",
    "- Underfitting: failing to capture relevant patterns, again leading to less accurate predictions."
   ]
  }
 ],
 "metadata": {
  "kernelspec": {
   "display_name": "Python 3 (ipykernel)",
   "language": "python",
   "name": "python3"
  },
  "language_info": {
   "codemirror_mode": {
    "name": "ipython",
    "version": 3
   },
   "file_extension": ".py",
   "mimetype": "text/x-python",
   "name": "python",
   "nbconvert_exporter": "python",
   "pygments_lexer": "ipython3",
   "version": "3.12.7"
  }
 },
 "nbformat": 4,
 "nbformat_minor": 5
}
