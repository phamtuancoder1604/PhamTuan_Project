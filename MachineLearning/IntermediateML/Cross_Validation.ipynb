{
 "cells": [
  {
   "cell_type": "markdown",
   "id": "84046961-55b7-442d-8879-50f04562ba2a",
   "metadata": {},
   "source": [
    "### Cross-validation\n",
    "In cross-validation, we run our <span style=\"background-color: #FFFF00\">modeling process on different subsets of the data to get multiple measures of model quality</span>.\n",
    "\n",
    "For example, we could begin by <span style=\"background-color: #FFFF00\">dividing the data into 5 pieces, each 20% of the full dataset</span>. In this case, we say that we have <span style=\"background-color: #FFFF00\">broken the data into 5 \"folds\"</span>.\n",
    "\n",
    "\n",
    "Then, we run one experiment for each fold:\n",
    "\n",
    "In Experiment 1, we use the <span style=\"background-color: #FFFF00\">first fold as a validation (or holdout) set and everything else as training data</span>. This gives us a measure of model quality based on a 20% holdout set.\n",
    "In Experiment 2, we hold out data from the <span style=\"background-color: #FFFF00\">second fold (and use everything except the second fold for training the model)</span>. The holdout set is then used to get a second estimate of model quality.\n",
    "We <span style=\"background-color: #FFFF00\">repeat this process, using every fold once as the holdout set</span>. Putting this together, <span style=\"background-color: #FFFF00\">100% of the data is used as holdout at some point, and we end up with a measure of model quality that is based on all of the rows</span> in the dataset (even if we don't use all rows simultaneously)."
   ]
  },
  {
   "cell_type": "code",
   "execution_count": 35,
   "id": "b1b1e7bc-3f77-4b8f-8a51-fa682ce7d702",
   "metadata": {},
   "outputs": [],
   "source": [
    "import pandas as pd  \n",
    "from sklearn.model_selection import train_test_split \n",
    "train_df = pd.read_csv('train.csv',index_col = 'Id')\n",
    "test_df = pd.read_csv('test.csv',index_col = 'Id')\n",
    "# Remove rows with missing target, separate target from predictors\n",
    "train_df.dropna(subset = ['SalePrice'], axis = 0, inplace = True)\n",
    "y = train_df.SalePrice\n",
    "train_df.drop(['SalePrice'], axis = 1)\n",
    "# Select numeric columns only\n",
    "num = [col for col in train_df.columns if train_df[col].dtype in ['int64','float64']]\n",
    "train_df = train_df[num]"
   ]
  },
  {
   "cell_type": "code",
   "execution_count": 37,
   "id": "c927463d-c93d-4eb2-bc6b-3c646b9abfb8",
   "metadata": {},
   "outputs": [],
   "source": [
    "from sklearn.pipeline import Pipeline \n",
    "from sklearn.impute import SimpleImputer \n",
    "from sklearn.ensemble import RandomForestRegressor \n",
    "pipeline = Pipeline(steps = [('preprocessor', SimpleImputer()),\n",
    "                            ('model',RandomForestRegressor(n_estimators = 100, random_state = 0))])"
   ]
  },
  {
   "cell_type": "markdown",
   "id": "264263ab-bc08-4380-8c5b-3613f3a0abd2",
   "metadata": {},
   "source": [
    "Scikit-learn has a convention where <span style=\"background-color: #FFFF00\">all metrics are defined so a high number is better</span>. Using negatives here allows them to be consistent with that convention"
   ]
  },
  {
   "cell_type": "code",
   "execution_count": 39,
   "id": "29b321c0-9187-4260-a5dc-725c30030f10",
   "metadata": {},
   "outputs": [],
   "source": [
    "from sklearn.model_selection import cross_val_score \n",
    "scores = -1 * cross_val_score(pipeline,train_df,y,cv = 5,scoring = 'neg_mean_absolute_error')\n",
    "# pipelin ,X,y ,cv(number of folds),scoring(mae,mse,rmse,rmsle,neg_mean_absolute_error)"
   ]
  },
  {
   "cell_type": "code",
   "execution_count": 41,
   "id": "58f4e4b4-2679-4f67-b148-5a8dcdd6b471",
   "metadata": {},
   "outputs": [
    {
     "name": "stdout",
     "output_type": "stream",
     "text": [
      "[ 349.14671233  513.31952055 1011.47452055  411.71160959  707.96876712]\n"
     ]
    }
   ],
   "source": [
    "print(scores)"
   ]
  },
  {
   "cell_type": "code",
   "execution_count": 43,
   "id": "07d180e4-3395-499a-b949-5853115c545c",
   "metadata": {},
   "outputs": [
    {
     "name": "stdout",
     "output_type": "stream",
     "text": [
      "598.7242260273974\n"
     ]
    }
   ],
   "source": [
    "print(scores.mean())"
   ]
  },
  {
   "cell_type": "markdown",
   "id": "abad1a0e-b6df-4e2f-874a-ecac4e9d688e",
   "metadata": {},
   "source": [
    "### When should you use cross-validation?\n",
    "<span style=\"background-color: #FFFF00\">Cross-validation gives a more accurate measure of model quality</span>, which is especially important if you are making a lot of modeling decisions.It can take longer to run.\n",
    "\n",
    "- For <span style=\"background-color: #FFFF00\">small datasets</span>, where extra computational burden <span style=\"background-color: #FFFF00\">isn't a big deal, you should run cross-validation</span>.\n",
    "- For <span style=\"background-color: #FFFF00\">larger datasets, a single validation set is sufficient</span>.\n",
    "\n",
    "Alternatively, you can run cross-validation and see if the scores for each experiment seem close. If each experiment yields the same results, a single validation set is probably sufficient"
   ]
  },
  {
   "cell_type": "markdown",
   "id": "b48ff7bf-0a6c-4f66-8f71-519c5f02feb4",
   "metadata": {},
   "source": [
    "### Step 1: Write a useful function\n",
    "Begin by writing a function get_score() that reports the average (over three cross-validation folds) MAE of a machine learning pipeline that uses:\n",
    "\n",
    "The n_estimators parameter supplied to get_score() is used when setting the number of trees in the random forest model."
   ]
  },
  {
   "cell_type": "code",
   "execution_count": 71,
   "id": "0970f075-af1e-490a-92ad-6e6b1c2b7d37",
   "metadata": {},
   "outputs": [],
   "source": [
    "def get_score(n_estimators):\n",
    "    \"\"\"Return the average MAE over 3 CV folds of random forest model.\n",
    "    \n",
    "    Keyword argument:\n",
    "    n_estimators -- the number of trees in the forest\n",
    "    \"\"\"\n",
    "    # Replace this body with your own code\n",
    "    pipeline = Pipeline(steps = [('preprocessor',SimpleImputer()),\n",
    "                                ('model',RandomForestRegressor(n_estimators = n_estimators, random_state = 0))])\n",
    "    scores = -1 * cross_val_score(pipeline,train_df,y,cv = 3 , scoring =  'neg_mean_absolute_error')\n",
    "    return scores.mean()"
   ]
  },
  {
   "cell_type": "markdown",
   "id": "65ae3d03-c6f0-4e9a-b1e8-a31406cba891",
   "metadata": {},
   "source": [
    "### Step 2: Test different parameter values"
   ]
  },
  {
   "cell_type": "code",
   "execution_count": 73,
   "id": "75e83ee5-d96d-4aba-9d30-a7c4cca93c6c",
   "metadata": {},
   "outputs": [
    {
     "name": "stdout",
     "output_type": "stream",
     "text": [
      "{50: 661.3272642899188, 100: 653.9688175132319, 150: 655.580563024555, 200: 643.9007718443595, 250: 640.7409096650077, 300: 639.5813083236862, 350: 644.1037210748118, 400: 645.9913737138158}\n"
     ]
    }
   ],
   "source": [
    "results = {}\n",
    "number_of_trees = [50, 100, 150, 200,250, 300, 350, 400]\n",
    "for i in number_of_trees: \n",
    "    results[i]= get_score(i)\n",
    "print(results)"
   ]
  },
  {
   "cell_type": "code",
   "execution_count": 79,
   "id": "40d4fb26-6312-42ec-949a-3535e7cb0131",
   "metadata": {},
   "outputs": [
    {
     "data": {
      "image/png": "[encoded data removed]",
      "text/plain": [
       "<Figure size 640x480 with 1 Axes>"
      ]
     },
     "metadata": {},
     "output_type": "display_data"
    }
   ],
   "source": [
    "import matplotlib.pyplot as plt\n",
    "#Visualize your results from Step 2\n",
    "plt.plot(list(results.keys()),list(results.values()));"
   ]
  },
  {
   "cell_type": "markdown",
   "id": "317bfa0f-3225-4a80-a003-46e6c18b7c33",
   "metadata": {},
   "source": [
    "#### Step 3: Find the best parameter value"
   ]
  },
  {
   "cell_type": "code",
   "execution_count": 92,
   "id": "9419e8be-83fe-49b7-a7b9-b86c26f5ca61",
   "metadata": {},
   "outputs": [
    {
     "name": "stdout",
     "output_type": "stream",
     "text": [
      "50\n"
     ]
    }
   ],
   "source": [
    "import math\n",
    "idx = 0\n",
    "min_v = -math.inf\n",
    "for k,v in results.items():\n",
    "    if v > min_v:\n",
    "        min_v = v\n",
    "        idx = k\n",
    "print(idx)"
   ]
  },
  {
   "cell_type": "markdown",
   "id": "4a007f66-77a8-4799-bdaf-ef20da311823",
   "metadata": {},
   "source": [
    "### Conclusion\n",
    "Using cross-validation yields a much <span style=\"background-color: #FFFF00\">better measure of model quality, with the added benefit of cleaning up our code: note that we no longer need to keep track of <span style=\"background-color: #FFFF00\">separate training and validation sets. So, especially for small datasets, it's a good improvement!</span>"
   ]
  }
 ],
 "metadata": {
  "kernelspec": {
   "display_name": "Python 3 (ipykernel)",
   "language": "python",
   "name": "python3"
  },
  "language_info": {
   "codemirror_mode": {
    "name": "ipython",
    "version": 3
   },
   "file_extension": ".py",
   "mimetype": "text/x-python",
   "name": "python",
   "nbconvert_exporter": "python",
   "pygments_lexer": "ipython3",
   "version": "3.12.7"
  }
 },
 "nbformat": 4,
 "nbformat_minor": 5
}
