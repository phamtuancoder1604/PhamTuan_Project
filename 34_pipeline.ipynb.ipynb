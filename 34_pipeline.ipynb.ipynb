{
 "cells": [
  {
   "cell_type": "code",
   "execution_count": 2,
   "id": "ab0119e1-88a0-4788-a0a3-2e43dfe0e750",
   "metadata": {},
   "outputs": [],
   "source": [
    "import numpy as np\n",
    "import cv2\n",
    "import pandas as pd\n",
    "import os\n",
    "import pickle\n"
   ]
  },
  {
   "cell_type": "code",
   "execution_count": 98,
   "id": "905356ce-d2a1-4d20-ab6e-3b726443db54",
   "metadata": {},
   "outputs": [],
   "source": [
    "def pipeline_model(path):\n",
    "    # Face detection model\n",
    "    faceDetectionModel =  'C:/Users/ASUS/Project/Data/res10_300x300_ssd_iter_140000_fp16.caffemodel'\n",
    "    # Mô tả kiến trúc\n",
    "    faceDetectionProto = 'C:/Users/ASUS/Project/Data/deploy.prototxt'\n",
    "    # Mô hình mô tả khuôn mặt\n",
    "    faceDescriptorModel = 'C:/Users/ASUS/Project/Data/openface.nn4.small2.v1.t7'\n",
    "    # Sử dụng OpenCV DNN đọc mô hìn nhận diện khuôn mặt\n",
    "    detectorModel = cv2.dnn.readNetFromCaffe(faceDetectionProto, faceDetectionModel)\n",
    "    # Đọc mô hình mô tả khuôn mặt từ file Torch\n",
    "    descriptorModel = cv2.dnn.readNetFromTorch(faceDescriptorModel)\n",
    "    # face recognition\n",
    "    face_recognition_model = pickle.load(open('./Pillow_01/img/ml_face_person_identity.pkl',mode = 'rb'))\n",
    "    # pipeline model\n",
    "    img1 = cv2.imread(path)\n",
    "    img = img1.copy()\n",
    "    h ,w = img.shape[:2]\n",
    "    blob = cv2.dnn.blobFromImage(img,1,(300,300),(123,174,106),swapRB = False,crop = False)\n",
    "    detectorModel.setInput(blob)\n",
    "    detection = detectorModel.forward()\n",
    "    # machcine results\n",
    "    machinlearning_results = dict(face_detect_score = [],\n",
    "                                 face_name = [],\n",
    "                                 face_name_score = [],\n",
    "                                 count = [])\n",
    "    count = 1\n",
    "    if len(detection) > 0:\n",
    "        for i,confidence in enumerate(detection[0,0,:,2]):\n",
    "            confidence = detection[0,0,i,2]\n",
    "            if confidence > 0.5:\n",
    "                box = detection[0,0,i,3:7] * np.array([w,h,w,h])\n",
    "                (start_x,start_y,end_x,end_y) = box.astype('int')\n",
    "                cv2.rectangle(img,(start_x,start_y),(end_x,end_y),(0,255,0))\n",
    "            # feature extraction\n",
    "            roi = img[start_y:end_y,start_x:end_x]\n",
    "            roiblob = cv2.dnn.blobFromImage(roi,1/255,(96,96),(0,0,0),swapRB=True,crop=True)\n",
    "            descriptorModel.setInput(roiblob)\n",
    "            vectors = descriptorModel.forward()\n",
    "            # predict with machine learning\n",
    "            face_name = face_recognition_model.predict(vectors)[0]\n",
    "            face_score = face_recognition_model.predict_proba(vectors).max()\n",
    "            text_face = f'{face_name}: {face_score *100:.0f}%'\n",
    "            cv2.putText(img,text_face,(100,100),cv2.FONT_HERSHEY_COMPLEX,1,(255,255,255),2)\n",
    "            machinlearning_results['count'].append(count)\n",
    "            machinlearning_results['face_detect_score'].append(confidence)\n",
    "            machinlearning_results['face_name'].append(face_name)\n",
    "            machinlearning_results['face_name_score'].append(face_score)\n",
    "            count += 1\n",
    "    return img , machinlearning_results"
   ]
  },
  {
   "cell_type": "code",
   "execution_count": 100,
   "id": "ec4deba7-6ef5-4c26-8ced-09fbcee3350f",
   "metadata": {},
   "outputs": [],
   "source": [
    "img, results = pipeline_model('./Pillow_01/Faces/Messi/messi.jpg')\n",
    "#cv2.imshow('Image',img)"
   ]
  },
  {
   "cell_type": "code",
   "execution_count": 60,
   "id": "80168e0c-138f-49ff-a639-6354ef6e6d93",
   "metadata": {},
   "outputs": [],
   "source": [
    "def display(img):\n",
    "    cv2.imshow('Image',img)\n",
    "    cv2.waitKey(0)\n",
    "    cv2.destroyAllWindows()"
   ]
  },
  {
   "cell_type": "code",
   "execution_count": 102,
   "id": "33e49de3-0bf1-425f-ac23-6805b5e56299",
   "metadata": {},
   "outputs": [],
   "source": [
    "display(img)"
   ]
  }
 ],
 "metadata": {
  "kernelspec": {
   "display_name": "Python 3 (ipykernel)",
   "language": "python",
   "name": "python3"
  },
  "language_info": {
   "codemirror_mode": {
    "name": "ipython",
    "version": 3
   },
   "file_extension": ".py",
   "mimetype": "text/x-python",
   "name": "python",
   "nbconvert_exporter": "python",
   "pygments_lexer": "ipython3",
   "version": "3.12.7"
  }
 },
 "nbformat": 4,
 "nbformat_minor": 5
}
